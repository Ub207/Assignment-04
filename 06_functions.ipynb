{
  "nbformat": 4,
  "nbformat_minor": 0,
  "metadata": {
    "colab": {
      "provenance": [],
      "authorship_tag": "ABX9TyPGG2sQ0pFlrtXq62GS9nhv",
      "include_colab_link": true
    },
    "kernelspec": {
      "name": "python3",
      "display_name": "Python 3"
    },
    "language_info": {
      "name": "python"
    }
  },
  "cells": [
    {
      "cell_type": "markdown",
      "metadata": {
        "id": "view-in-github",
        "colab_type": "text"
      },
      "source": [
        "<a href=\"https://colab.research.google.com/github/Ub207/Assignment-04/blob/main/06_functions.ipynb\" target=\"_parent\"><img src=\"https://colab.research.google.com/assets/colab-badge.svg\" alt=\"Open In Colab\"/></a>"
      ]
    },
    {
      "cell_type": "code",
      "execution_count": null,
      "metadata": {
        "colab": {
          "base_uri": "https://localhost:8080/"
        },
        "id": "l5YH1kknF_zb",
        "outputId": "4aa7f921-2e26-4f90-9b63-1d87761ddf0d"
      },
      "outputs": [
        {
          "output_type": "stream",
          "name": "stdout",
          "text": [
            "Enter a first number:8\n",
            "Enter a second number:5\n",
            "Average 6.5\n"
          ]
        }
      ],
      "source": [
        "# Write a function that takes two numbers and finds the average between the two.\n",
        "def find_average(num1,num2):\n",
        " return  (num1+num2) /2\n",
        "a = float(input(\"Enter a first number:\"))\n",
        "b = float(input(\"Enter a second number:\"))\n",
        "average = find_average(a,b)\n",
        "print(\"Average\",average)"
      ]
    },
    {
      "cell_type": "code",
      "source": [
        "def make_sentence(word, part_of_speech):\n",
        "    if part_of_speech == 0:\n",
        "        print(\"I am excited to add this \" + word + \" to my vast collection of them.\")\n",
        "    elif part_of_speech == 1:\n",
        "        print(\"It's so nice outside today, it makes me want to \" + word + \"!\")\n",
        "    elif part_of_speech == 2:\n",
        "        print(\"Looking out my window, the sky is big and \" + word + \"!\")\n",
        "    else:\n",
        "        print(\"Part of speech must be 0, 1, or 2! Cannot make a sentence.\")\n",
        "\n",
        "def main():\n",
        "    word = input(\"Please enter a noun, verb, or adjective: \")\n",
        "    print(\"Is this a noun (0), verb (1), or adjective (2)?\")\n",
        "    part_of_speech = int(input(\"Enter 0 for noun, 1 for verb, or 2 for adjective: \"))\n",
        "    make_sentence(word, part_of_speech)\n",
        "\n",
        "main()\n",
        "\n"
      ],
      "metadata": {
        "colab": {
          "base_uri": "https://localhost:8080/"
        },
        "id": "sACni37VJxv1",
        "outputId": "14a3c925-9085-42f1-ff50-cdbcc659b7dc"
      },
      "execution_count": 2,
      "outputs": [
        {
          "output_type": "stream",
          "name": "stdout",
          "text": [
            "Please enter a noun, verb, or adjective: huge\n",
            "Is this a noun (0), verb (1), or adjective (2)?\n",
            "Enter 0 for noun, 1 for verb, or 2 for adjective: 2\n",
            "Looking out my window, the sky is big and huge!\n"
          ]
        }
      ]
    },
    {
      "cell_type": "code",
      "source": [
        "def print_ones_digit(num):\n",
        "    ones_digit = abs(num) % 10\n",
        "    print(f\"The ones digit is {ones_digit}\")\n",
        "\n",
        "def main():\n",
        "    number = int(input(\"Enter a number: \"))\n",
        "    print_ones_digit(number)\n",
        "\n",
        "if __name__ == \"__main__\":\n",
        "    main()"
      ],
      "metadata": {
        "colab": {
          "base_uri": "https://localhost:8080/"
        },
        "id": "NiDN2ByWhO_Z",
        "outputId": "a5f6058a-c4ce-4f56-b1f8-b821a96c9065"
      },
      "execution_count": 3,
      "outputs": [
        {
          "output_type": "stream",
          "name": "stdout",
          "text": [
            "Enter a number: 7\n",
            "The ones digit is 7\n"
          ]
        }
      ]
    },
    {
      "cell_type": "code",
      "source": [
        "def double_num(num):  # Function jo ek number ko double karega\n",
        "    return num * 2\n",
        "\n",
        "def main():\n",
        "    num = int(input(\"Plz enter a number: \"))  # User se number lo (string ko int me convert karna zaroori hai)\n",
        "    num_times_2 = double_num(num)  # Function call karo\n",
        "    print(\"Double number is\", num_times_2)  # Sahi print statement\n",
        "\n",
        "main()  # Program ko run karo\n"
      ],
      "metadata": {
        "colab": {
          "base_uri": "https://localhost:8080/"
        },
        "id": "NbFwZ2_4xmVZ",
        "outputId": "a84a3e13-2a9a-43b3-e38c-fd60eb29d2b8"
      },
      "execution_count": null,
      "outputs": [
        {
          "output_type": "stream",
          "name": "stdout",
          "text": [
            "Plz enter a number: 9\n",
            "Double number is 18\n"
          ]
        }
      ]
    },
    {
      "cell_type": "code",
      "source": [
        "def get_name():\n",
        "  return \"Sophia\"\n",
        "  def main():\n",
        "     name = get_name()\n",
        "  print(\"howdy\",name,)\n",
        "  main()"
      ],
      "metadata": {
        "id": "jjS7OFrW6OzY"
      },
      "execution_count": null,
      "outputs": []
    },
    {
      "cell_type": "code",
      "source": [
        "# 10 even 11 odd 12 even 13 odd 14 even 15 odd 16 even 17 odd 18 even 19 odd\n",
        "for num in range(10,20):\n",
        "  if num % 2 == 0:\n",
        "    print(num,\"even\")\n",
        "  else:\n",
        "    print(\"odd\",num)"
      ],
      "metadata": {
        "colab": {
          "base_uri": "https://localhost:8080/"
        },
        "id": "54GKFBHm8FwD",
        "outputId": "dcbfe144-07a6-4d77-d475-a93fd4688574"
      },
      "execution_count": null,
      "outputs": [
        {
          "output_type": "stream",
          "name": "stdout",
          "text": [
            "10 even\n",
            "odd 11\n",
            "12 even\n",
            "odd 13\n",
            "14 even\n",
            "odd 15\n",
            "16 even\n",
            "odd 17\n",
            "18 even\n",
            "odd 19\n"
          ]
        }
      ]
    },
    {
      "cell_type": "code",
      "source": [
        "def print_divisors(num):  # Function jo divisors find karega\n",
        "    print(\"Here are the divisors of\", num)\n",
        "    for i in range(1, num + 1):  # 1 se num tak loop chalega\n",
        "        if num % i == 0:  # Agar num i se divide ho jaye\n",
        "            print(i)  # To ye divisor hai, isko print karo\n",
        "\n",
        "def main():\n",
        "    num = int(input(\"Plz enter a number: \"))  # User se number lo\n",
        "    print_divisors(num)  # Function ko call karo\n",
        "\n",
        "main()  # Program start karne ke liye\n",
        "\n",
        "\n",
        "\n",
        "\n",
        "\n"
      ],
      "metadata": {
        "colab": {
          "base_uri": "https://localhost:8080/"
        },
        "id": "59LxDPGs-ym2",
        "outputId": "4908d6af-e427-4c58-a3d9-1fa6ab23631a"
      },
      "execution_count": null,
      "outputs": [
        {
          "output_type": "stream",
          "name": "stdout",
          "text": [
            "Plz enter a number: 9\n",
            "Here are the divisors of 9\n",
            "1\n",
            "3\n",
            "9\n"
          ]
        }
      ]
    },
    {
      "cell_type": "code",
      "source": [
        "def print_multiple(message,repeat):\n",
        "  for i in range(message,repeat):\n",
        "    print(message)\n",
        "    def main():\n",
        "      message = input(\"plz enter a message:\")\n",
        "      repeate = input(\"plz enter a number of time to repeat the message:\")\n",
        "      print_multiple(\"message\",repeat)\n"
      ],
      "metadata": {
        "id": "5lIwWmezFTok"
      },
      "execution_count": null,
      "outputs": []
    },
    {
      "cell_type": "code",
      "source": [
        "def make_sentence(word, part_of_speech):\n",
        "    if part_of_speech == 0:\n",
        "        print(f\"I am excited to add this {word} to my vast collection of them!\")\n",
        "    elif part_of_speech == 1:\n",
        "        print(f\"It's so nice outside today it makes me want to {word}!\")\n",
        "    elif part_of_speech == 2:\n",
        "        print(f\"Looking out my window, the sky is big and {word}!\")\n"
      ],
      "metadata": {
        "id": "UIYktVKjMpxo"
      },
      "execution_count": null,
      "outputs": []
    },
    {
      "cell_type": "code",
      "source": [
        "import random\n",
        "\n",
        "DONE_LIKELIHOOD = 0.3  # 30% chance to stop early\n",
        "\n",
        "def done():\n",
        "    return random.random() < DONE_LIKELIHOOD  # Randomly decide to stop\n",
        "\n",
        "def chaotic_counting():\n",
        "    for i in range(1, 11):  # Count from 1 to 10\n",
        "        if done():  # Flip the magic coin\n",
        "            return  # Stop counting!\n",
        "        print(i, end=\" \")  # Print number\n",
        "\n",
        "def main():\n",
        "    print(\"I'm going to count until 10 or until I feel like stopping, whichever comes first.\")\n",
        "    chaotic_counting()  # Start counting\n",
        "    print(\"\\nI'm done.\")  # Say we are done\n",
        "\n",
        "main()  # Run the program\n"
      ],
      "metadata": {
        "colab": {
          "base_uri": "https://localhost:8080/"
        },
        "id": "Mtu9AGOoXKHG",
        "outputId": "eeb7958a-3ff1-4972-ae22-c7938cf28589"
      },
      "execution_count": null,
      "outputs": [
        {
          "output_type": "stream",
          "name": "stdout",
          "text": [
            "I'm going to count until 10 or until I feel like stopping, whichever comes first.\n",
            "1 \n",
            "I'm done.\n"
          ]
        }
      ]
    },
    {
      "cell_type": "code",
      "source": [],
      "metadata": {
        "id": "8Nm0LO_oOJ1J"
      },
      "execution_count": null,
      "outputs": []
    },
    {
      "cell_type": "code",
      "source": [
        "def count_even(lst):  # This function counts even numbers in the list\n",
        "    count = 0  # Start the count at 0\n",
        "    for num in lst:  # Go through each number in the list\n",
        "        if num % 2 == 0:  # If the number is even (divisible by 2)\n",
        "            count += 1  # Add 1 to the count\n",
        "    print(count)  # Print the total number of even numbers\n",
        "\n",
        "def get_list_of_ints():  # This function gets numbers from the user\n",
        "    lst = []  # Start with an empty list\n",
        "    user_input = input(\"Enter an integer or press enter to stop: \")  # Ask for a number\n",
        "    while user_input != \"\":  # Keep asking until the user presses Enter\n",
        "        lst.append(int(user_input))  # Add the number to the list\n",
        "        user_input = input(\"Enter an integer or press enter to stop: \")  # Ask again\n",
        "    return lst  # Return the list of numbers\n",
        "\n",
        "def main():  # This function runs everything\n",
        "    lst = get_list_of_ints()  # Get the list of numbers from the user\n",
        "    count_even(lst)  # Count and print the even numbers\n",
        "\n",
        "if __name__ == '__main__':  # This runs the program\n",
        "    main()\n"
      ],
      "metadata": {
        "id": "0HA0Wq45OKY6",
        "outputId": "c0eff6fa-7021-4574-dfc1-e7bbb87b10d7",
        "colab": {
          "base_uri": "https://localhost:8080/"
        }
      },
      "execution_count": null,
      "outputs": [
        {
          "output_type": "stream",
          "name": "stdout",
          "text": [
            "Enter an integer or press enter to stop: 9\n",
            "Enter an integer or press enter to stop: \n",
            "0\n"
          ]
        }
      ]
    }
  ]
}