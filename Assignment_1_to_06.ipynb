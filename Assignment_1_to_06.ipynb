{
  "nbformat": 4,
  "nbformat_minor": 0,
  "metadata": {
    "colab": {
      "provenance": [],
      "authorship_tag": "ABX9TyM73g/1QcfllrBvgLhnozjb",
      "include_colab_link": true
    },
    "kernelspec": {
      "name": "python3",
      "display_name": "Python 3"
    },
    "language_info": {
      "name": "python"
    }
  },
  "cells": [
    {
      "cell_type": "markdown",
      "metadata": {
        "id": "view-in-github",
        "colab_type": "text"
      },
      "source": [
        "<a href=\"https://colab.research.google.com/github/Ub207/Assignment-04/blob/main/Assignment_1_to_06.ipynb\" target=\"_parent\"><img src=\"https://colab.research.google.com/assets/colab-badge.svg\" alt=\"Open In Colab\"/></a>"
      ]
    },
    {
      "cell_type": "code",
      "execution_count": null,
      "metadata": {
        "id": "n1SLoPBv1goe",
        "colab": {
          "base_uri": "https://localhost:8080/"
        },
        "outputId": "2a3e6afa-c372-4329-f352-fce64c1dd2b8"
      },
      "outputs": [
        {
          "output_type": "stream",
          "name": "stdout",
          "text": [
            "Enter a adjective:amazing\n",
            "enter a verb:skydive\n",
            "enter a verbplaying\n",
            "enter a famous person:Ubaid\n",
            "Computer is so amazing! programe,They makes me so excited  i love to skydive stay hydrated and playing like you are Ubaid\n"
          ]
        }
      ],
      "source": [
        "# madlib game\n",
        "adjective = input(\"Enter a adjective:\")\n",
        "verb1 = input(\"enter a verb:\")\n",
        "verb2 = input(\"enter a verb\")\n",
        "famous_person = input(\"enter a famous person:\")\n",
        "madlib = f\"Computer is so {adjective}! programe,They makes me so excited  i love to {verb1} stay hydrated and {verb2} like you are {famous_person}\"\n",
        "print(madlib)\n"
      ]
    },
    {
      "cell_type": "code",
      "source": [
        "# Hangman\n",
        "import random\n",
        "\n",
        "def hangman():\n",
        "    # List of words to guess\n",
        "    word_list = [\"python\", \"hangman\", \"computer\", \"programming\", \"keyboard\", \"developer\", \"gaming\"]\n",
        "\n",
        "    # Select a random word\n",
        "    secret_word = random.choice(word_list).lower()\n",
        "    guessed_letters = []\n",
        "    attempts_left = 10\n",
        "    word_completion = \"_\" * len(secret_word)\n",
        "\n",
        "    print(\"Let's play Hangman!\")\n",
        "    print(f\"The word has {len(secret_word)} letters: {word_completion}\")\n",
        "\n",
        "    while attempts_left > 0:\n",
        "        print(f\"\\nAttempts left: {attempts_left}\")\n",
        "        guess = input(\"Guess a letter: \").lower()\n",
        "\n",
        "        # Validate input\n",
        "        if len(guess) != 1 or not guess.isalpha():\n",
        "            print(\"Please enter a single letter.\")\n",
        "            continue\n",
        "\n",
        "        if guess in guessed_letters:\n",
        "            print(\"You already guessed that letter!\")\n",
        "            continue\n",
        "\n",
        "        guessed_letters.append(guess)\n",
        "\n",
        "        if guess in secret_word:\n",
        "            print(\"Good guess!\")\n",
        "            # Update word completion\n",
        "            word_as_list = list(word_completion)\n",
        "            for i, letter in enumerate(secret_word):\n",
        "                if letter == guess:\n",
        "                    word_as_list[i] = guess\n",
        "            word_completion = \"\".join(word_as_list)\n",
        "\n",
        "            # Check if player won\n",
        "            if \"_\" not in word_completion:\n",
        "                print(f\"Congratulations! You guessed the word: {secret_word}\")\n",
        "                return\n",
        "        else:\n",
        "            print(\"That letter is not in the word.\")\n",
        "            attempts_left -= 1\n",
        "\n",
        "        print(f\"Current word: {word_completion}\")\n",
        "        print(f\"Guessed letters: {', '.join(guessed_letters)}\")\n",
        "\n",
        "    print(f\"\\nGame over! The word was: {secret_word}\")\n",
        "\n",
        "def main():\n",
        "    name = input(\"Please enter your name: \")\n",
        "    print(f\"\\nWelcome to Hangman, {name}!\")\n",
        "    print(\"Try to guess the secret word one letter at a time.\")\n",
        "    print(\"You have 10 attempts before the man gets hanged!\")\n",
        "\n",
        "    while True:\n",
        "        hangman()\n",
        "        play_again = input(\"\\nWould you like to play again? (yes/no): \").lower()\n",
        "        if play_again != \"yes\":\n",
        "            print(\"Thanks for playing! Goodbye.\")\n",
        "            break\n",
        "\n",
        "if __name__ == \"__main__\":\n",
        "    main()"
      ],
      "metadata": {
        "colab": {
          "base_uri": "https://localhost:8080/"
        },
        "id": "mL9QtQRLS2oN",
        "outputId": "8cadc57d-d95f-4874-eb47-6fbf374bbca5"
      },
      "execution_count": null,
      "outputs": [
        {
          "output_type": "stream",
          "name": "stdout",
          "text": [
            "Please enter your name: Ubaid\n",
            "\n",
            "Welcome to Hangman, Ubaid!\n",
            "Try to guess the secret word one letter at a time.\n",
            "You have 10 attempts before the man gets hanged!\n",
            "Let's play Hangman!\n",
            "The word has 8 letters: ________\n",
            "\n",
            "Attempts left: 10\n",
            "Guess a letter: h\n",
            "That letter is not in the word.\n",
            "Current word: ________\n",
            "Guessed letters: h\n",
            "\n",
            "Attempts left: 9\n",
            "Guess a letter: o\n",
            "Good guess!\n",
            "Current word: _o______\n",
            "Guessed letters: h, o\n",
            "\n",
            "Attempts left: 9\n",
            "Guess a letter: p\n",
            "Good guess!\n",
            "Current word: _o_p____\n",
            "Guessed letters: h, o, p\n",
            "\n",
            "Attempts left: 9\n",
            "Guess a letter: y\n",
            "That letter is not in the word.\n",
            "Current word: _o_p____\n",
            "Guessed letters: h, o, p, y\n",
            "\n",
            "Attempts left: 8\n",
            "Guess a letter: t\n",
            "Good guess!\n",
            "Current word: _o_p_t__\n",
            "Guessed letters: h, o, p, y, t\n",
            "\n",
            "Attempts left: 8\n",
            "Guess a letter: n\n",
            "That letter is not in the word.\n",
            "Current word: _o_p_t__\n",
            "Guessed letters: h, o, p, y, t, n\n",
            "\n",
            "Attempts left: 7\n",
            "Guess a letter: r\n",
            "Good guess!\n",
            "Current word: _o_p_t_r\n",
            "Guessed letters: h, o, p, y, t, n, r\n",
            "\n",
            "Attempts left: 7\n",
            "Guess a letter: g\n",
            "That letter is not in the word.\n",
            "Current word: _o_p_t_r\n",
            "Guessed letters: h, o, p, y, t, n, r, g\n",
            "\n",
            "Attempts left: 6\n",
            "Guess a letter: k\n",
            "That letter is not in the word.\n",
            "Current word: _o_p_t_r\n",
            "Guessed letters: h, o, p, y, t, n, r, g, k\n",
            "\n",
            "Attempts left: 5\n",
            "Guess a letter: c\n",
            "Good guess!\n",
            "Current word: co_p_t_r\n",
            "Guessed letters: h, o, p, y, t, n, r, g, k, c\n",
            "\n",
            "Attempts left: 5\n",
            "Guess a letter: m\n",
            "Good guess!\n",
            "Current word: comp_t_r\n",
            "Guessed letters: h, o, p, y, t, n, r, g, k, c, m\n",
            "\n",
            "Attempts left: 5\n",
            "Guess a letter: u\n",
            "Good guess!\n",
            "Current word: comput_r\n",
            "Guessed letters: h, o, p, y, t, n, r, g, k, c, m, u\n",
            "\n",
            "Attempts left: 5\n",
            "Guess a letter: e\n",
            "Good guess!\n",
            "Congratulations! You guessed the word: computer\n",
            "\n",
            "Would you like to play again? (yes/no): yes\n",
            "Let's play Hangman!\n",
            "The word has 11 letters: ___________\n",
            "\n",
            "Attempts left: 10\n",
            "Guess a letter: p\n",
            "Good guess!\n",
            "Current word: p__________\n",
            "Guessed letters: p\n",
            "\n",
            "Attempts left: 10\n",
            "Guess a letter: r\n",
            "Good guess!\n",
            "Current word: pr__r______\n",
            "Guessed letters: p, r\n",
            "\n",
            "Attempts left: 10\n",
            "Guess a letter: o\n",
            "Good guess!\n",
            "Current word: pro_r______\n",
            "Guessed letters: p, r, o\n",
            "\n",
            "Attempts left: 10\n",
            "Guess a letter: g\n",
            "Good guess!\n",
            "Current word: progr_____g\n",
            "Guessed letters: p, r, o, g\n",
            "\n",
            "Attempts left: 10\n",
            "Guess a letter: r\n",
            "You already guessed that letter!\n",
            "\n",
            "Attempts left: 10\n",
            "Guess a letter: a\n",
            "Good guess!\n",
            "Current word: progra____g\n",
            "Guessed letters: p, r, o, g, a\n",
            "\n",
            "Attempts left: 10\n",
            "Guess a letter: m\n",
            "Good guess!\n",
            "Current word: programm__g\n",
            "Guessed letters: p, r, o, g, a, m\n",
            "\n",
            "Attempts left: 10\n",
            "Guess a letter: m\n",
            "You already guessed that letter!\n",
            "\n",
            "Attempts left: 10\n",
            "Guess a letter: i\n",
            "Good guess!\n",
            "Current word: programmi_g\n",
            "Guessed letters: p, r, o, g, a, m, i\n",
            "\n",
            "Attempts left: 10\n",
            "Guess a letter: n\n",
            "Good guess!\n",
            "Congratulations! You guessed the word: programming\n",
            "\n",
            "Would you like to play again? (yes/no): r\n",
            "Thanks for playing! Goodbye.\n"
          ]
        }
      ]
    },
    {
      "cell_type": "code",
      "source": [
        "# guessing_number\n",
        "import random\n",
        "secret_number = random.randint(1,100)\n",
        "guess = input(\"enter a number between 1 and 100\")\n",
        "while True:\n",
        "if secret_number < random_number:\n",
        "  print(\"Too low\")\n",
        "elif secret_number < random_number:\n",
        "  print(\"Too high\")\n",
        "  secret_number == random_number\n",
        "  print(\"It's tigh\")"
      ],
      "metadata": {
        "colab": {
          "base_uri": "https://localhost:8080/",
          "height": 106
        },
        "id": "ABEHcYI4m4am",
        "outputId": "bc725990-d1fe-438b-f2ee-dfa472404d7c"
      },
      "execution_count": null,
      "outputs": [
        {
          "output_type": "error",
          "ename": "SyntaxError",
          "evalue": "expected ':' (<ipython-input-2-25b9d2307125>, line 5)",
          "traceback": [
            "\u001b[0;36m  File \u001b[0;32m\"<ipython-input-2-25b9d2307125>\"\u001b[0;36m, line \u001b[0;32m5\u001b[0m\n\u001b[0;31m    while True\u001b[0m\n\u001b[0m              ^\u001b[0m\n\u001b[0;31mSyntaxError\u001b[0m\u001b[0;31m:\u001b[0m expected ':'\n"
          ]
        }
      ]
    },
    {
      "cell_type": "code",
      "source": [],
      "metadata": {
        "id": "mG9x_rURl2U9"
      },
      "execution_count": null,
      "outputs": []
    },
    {
      "cell_type": "code",
      "source": [
        "import random\n",
        "\n",
        "# Prompt Player 1 for their choice\n",
        "player1 = input(\"Select Rock, Paper, or Scissors: \").lower()\n",
        "\n",
        "# Validate Player 1's choice\n",
        "if player1 not in [\"rock\", \"paper\", \"scissors\"]:\n",
        "    print(\"Invalid choice! Please choose from Rock, Paper, or Scissors.\")\n",
        "else:\n",
        "    # Player 2 (Computer) makes a random choice\n",
        "    player2 = random.choice([\"rock\", \"paper\", \"scissors\"])\n",
        "    print(f\"Player 2 selected: {player2}\")\n",
        "\n",
        "    # Determine the winner\n",
        "    if player1 == player2:\n",
        "        print(\"It's a tie!\")\n",
        "    elif (player1 == \"rock\" and player2 == \"scissors\") or \\\n",
        "         (player1 == \"scissors\" and player2 == \"paper\") or \\\n",
        "         (player1 == \"paper\" and player2 == \"rock\"):\n",
        "        print(\"Player 1 won!\")\n",
        "    else:\n",
        "        print(\"Player 2 won!\")\n"
      ],
      "metadata": {
        "colab": {
          "base_uri": "https://localhost:8080/"
        },
        "id": "PBf832GXKbf3",
        "outputId": "f3c00694-e5df-426b-d745-eb723085d78c"
      },
      "execution_count": null,
      "outputs": [
        {
          "output_type": "stream",
          "name": "stdout",
          "text": [
            "Select Rock, Paper, or Scissors: paper\n",
            "Player 2 selected: paper\n",
            "It's a tie!\n"
          ]
        }
      ]
    }
  ]
}