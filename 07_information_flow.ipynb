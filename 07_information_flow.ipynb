{
  "nbformat": 4,
  "nbformat_minor": 0,
  "metadata": {
    "colab": {
      "provenance": [],
      "authorship_tag": "ABX9TyNa/2+oj5DGRuUT4BkaeyzY",
      "include_colab_link": true
    },
    "kernelspec": {
      "name": "python3",
      "display_name": "Python 3"
    },
    "language_info": {
      "name": "python"
    }
  },
  "cells": [
    {
      "cell_type": "markdown",
      "metadata": {
        "id": "view-in-github",
        "colab_type": "text"
      },
      "source": [
        "<a href=\"https://colab.research.google.com/github/Ub207/Assignment-04/blob/main/07_information_flow.ipynb\" target=\"_parent\"><img src=\"https://colab.research.google.com/assets/colab-badge.svg\" alt=\"Open In Colab\"/></a>"
      ]
    },
    {
      "cell_type": "code",
      "execution_count": null,
      "metadata": {
        "colab": {
          "base_uri": "https://localhost:8080/"
        },
        "id": "wXGDDyQglqfs",
        "outputId": "f5661a91-d14f-4886-93d0-52ed658c7693"
      },
      "outputs": [
        {
          "output_type": "stream",
          "name": "stdout",
          "text": [
            "How old is this person?: 99\n",
            "True\n"
          ]
        }
      ],
      "source": [
        "ADULT_AGE : int = 18 # U.S. age\n",
        "\n",
        "def is_adult(age: int):\n",
        "    if age >= ADULT_AGE:\n",
        "        return True\n",
        "\n",
        "    return False\n",
        "\n",
        "########## No need to edit code beyond this point :) ##########\n",
        "\n",
        "def main():\n",
        "    age : str = int(input(\"How old is this person?: \"))\n",
        "    print(is_adult(age))\n",
        "\n",
        "\n",
        "if __name__ == \"__main__\":\n",
        "    main()"
      ]
    },
    {
      "cell_type": "code",
      "source": [
        "def main():\n",
        "\tnum: int = 7\n",
        "\tnum = subtract_seven(num)\n",
        "\tprint(\"this should be zero: \", num)\n",
        "\n",
        "def subtract_seven(num):\n",
        "\tnum = num - 7\n",
        "\treturn num\n",
        "\n",
        "\n",
        "# There is no need to edit code beyond this point\n",
        "\n",
        "if __name__ == '__main__':\n",
        "    main()"
      ],
      "metadata": {
        "colab": {
          "base_uri": "https://localhost:8080/"
        },
        "id": "rUkR4BmVXbAa",
        "outputId": "77ceec44-a993-4eb9-af39-7305ccbdd5aa"
      },
      "execution_count": 1,
      "outputs": [
        {
          "output_type": "stream",
          "name": "stdout",
          "text": [
            "this should be zero:  0\n"
          ]
        }
      ]
    },
    {
      "cell_type": "code",
      "source": [
        "def main():\n",
        "    name : str = input(\"What's your name? \")\n",
        "    print(greet(name))\n",
        "\n",
        "# There is no need to edit code beyond this point\n",
        "\n",
        "def greet(name):\n",
        "    return \"Greetings \" + name + \"!\"\n",
        "\n",
        "if __name__ == '__main__':\n",
        "    main()\n"
      ],
      "metadata": {
        "colab": {
          "base_uri": "https://localhost:8080/"
        },
        "id": "7wvam-kIm5E3",
        "outputId": "d5cac2c7-d516-46b6-8169-726ddd2f5b11"
      },
      "execution_count": null,
      "outputs": [
        {
          "output_type": "stream",
          "name": "stdout",
          "text": [
            "What's your name? Ubaid\n",
            "Greetings Ubaid!\n"
          ]
        }
      ]
    },
    {
      "cell_type": "code",
      "source": [
        "# Implement the following function which takes in 3 integers as parameters:\n",
        "def in_range(n,low,high):\n",
        "  if n >= low and n <= high:\n",
        "    return True\n",
        "    return False"
      ],
      "metadata": {
        "id": "GJtA-juVTeCB"
      },
      "execution_count": null,
      "outputs": []
    },
    {
      "cell_type": "code",
      "source": [
        "\n",
        "def num_in_stock(fruit):\n",
        "    if fruit == \"apple\":\n",
        "        return 2\n",
        "    elif fruit == \"banana\":\n",
        "        return 4\n",
        "    elif fruit == \"pear\":\n",
        "        return 100\n",
        "    else:\n",
        "        return 0\n",
        "\n",
        "def main():\n",
        "    fruit = input(\"Enter a fruit: \")\n",
        "    stock = num_in_stock(fruit)\n",
        "\n",
        "    if stock == 0:\n",
        "        print(\"This fruit is not in the stock\")\n",
        "    else:\n",
        "        print(\"This fruit is in the stock\")\n",
        "        print(f\"Stock available: {stock}\")\n",
        "\n",
        "# Call main function\n",
        "main()\n",
        "\n",
        "\n"
      ],
      "metadata": {
        "colab": {
          "base_uri": "https://localhost:8080/"
        },
        "id": "wvN3tmEfWejt",
        "outputId": "0f321eb5-cab7-41d7-eb03-76cde6a5b8ee"
      },
      "execution_count": null,
      "outputs": [
        {
          "output_type": "stream",
          "name": "stdout",
          "text": [
            "Enter a fruit: apple\n",
            "This fruit is in the stock\n",
            "Stock available: 2\n"
          ]
        }
      ]
    },
    {
      "cell_type": "code",
      "source": [],
      "metadata": {
        "id": "ymJH_Mjv_wsE"
      },
      "execution_count": null,
      "outputs": []
    },
    {
      "cell_type": "code",
      "source": [
        "def get_user_info():\n",
        "  first_name:str = input(\"Enter your first_name:\")\n",
        "  last_name:str = input(\"Enter your last_name:\")\n",
        "  email_address:str = input(\"Enter your email_address:\")\n",
        "  return first_name,last_name, email_address\n",
        "  def main():\n",
        "    user_data = get_user_info()\n",
        "    print(\"recieved the following user_data\",User_data)\n",
        "    main()\n"
      ],
      "metadata": {
        "id": "Auvd7nnY_4l3"
      },
      "execution_count": null,
      "outputs": []
    }
  ]
}