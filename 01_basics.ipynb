{
  "nbformat": 4,
  "nbformat_minor": 0,
  "metadata": {
    "colab": {
      "provenance": [],
      "authorship_tag": "ABX9TyMQgEyb/EIRg78ukmOR/qGU",
      "include_colab_link": true
    },
    "kernelspec": {
      "name": "python3",
      "display_name": "Python 3"
    },
    "language_info": {
      "name": "python"
    }
  },
  "cells": [
    {
      "cell_type": "markdown",
      "metadata": {
        "id": "view-in-github",
        "colab_type": "text"
      },
      "source": [
        "<a href=\"https://colab.research.google.com/github/Ub207/Assignment-04/blob/main/01_basics.ipynb\" target=\"_parent\"><img src=\"https://colab.research.google.com/assets/colab-badge.svg\" alt=\"Open In Colab\"/></a>"
      ]
    },
    {
      "cell_type": "code",
      "execution_count": 1,
      "metadata": {
        "colab": {
          "base_uri": "https://localhost:8080/"
        },
        "id": "nf0SSwxIek1e",
        "outputId": "b9ed179b-6cc0-4f17-fa19-7448abf443ef"
      },
      "outputs": [
        {
          "output_type": "stream",
          "name": "stdout",
          "text": [
            "What do you want? jokes\n",
            "Here is a joke for you!\n",
            "Sophia is heading out to the grocery store. A programmer tells her: get a liter of milk, and if they have eggs, get 12.\n",
            "Sophia returns with 13 liters of milk. The programmer asks why and Sophia replies: 'because they had eggs'\n"
          ]
        }
      ],
      "source": [
        "# Define prompt and responses\n",
        "prompt = \"What do you want? \"\n",
        "joke = \"\"\"Here is a joke for you!\n",
        "Sophia is heading out to the grocery store. A programmer tells her: get a liter of milk, and if they have eggs, get 12.\n",
        "Sophia returns with 13 liters of milk. The programmer asks why and Sophia replies: 'because they had eggs'\"\"\"\n",
        "sorry = \"Sorry, I only tell jokes.\"\n",
        "\n",
        "def main():\n",
        "    # Get user input\n",
        "    user_input = input(prompt).strip().lower()\n",
        "\n",
        "    # Respond based on user input\n",
        "    if \"joke\" in user_input:\n",
        "        print(joke)\n",
        "    else:\n",
        "        print(sorry)\n",
        "\n",
        "if __name__ == \"__main__\":\n",
        "    main()\n"
      ]
    },
    {
      "cell_type": "code",
      "source": [
        "number = float(input(\"Please enter a number:\"))\n",
        "while number < 100:\n",
        "  number *= 2\n",
        "  print(f\"doubled value: {number}\")\n",
        "  print(\"The final value is: number\")\n"
      ],
      "metadata": {
        "colab": {
          "base_uri": "https://localhost:8080/"
        },
        "id": "RELR8q0vqIGY",
        "outputId": "fe807633-ba36-4068-9c0f-5f3551f65d5a"
      },
      "execution_count": 4,
      "outputs": [
        {
          "output_type": "stream",
          "name": "stdout",
          "text": [
            "Please enter a number:5\n",
            "doubled value: 10.0\n",
            "The final value is: number\n",
            "doubled value: 20.0\n",
            "The final value is: number\n",
            "doubled value: 40.0\n",
            "The final value is: number\n",
            "doubled value: 80.0\n",
            "The final value is: number\n",
            "doubled value: 160.0\n",
            "The final value is: number\n"
          ]
        }
      ]
    },
    {
      "cell_type": "code",
      "source": [
        "# Write a program that prints out the calls for a spaceship that is about to launch. Countdown from 10 to 1 and then output Liftoff!"
      ],
      "metadata": {
        "id": "cO3MnyrnriSE"
      },
      "execution_count": 5,
      "outputs": []
    },
    {
      "cell_type": "code",
      "source": [
        "def main():\n",
        "  for i in range(10):\n",
        "    print(10 -i, end =\" \")\n",
        "    print(\"Liftoff\")\n",
        "    main()"
      ],
      "metadata": {
        "id": "wofsP43krl2f"
      },
      "execution_count": 7,
      "outputs": []
    },
    {
      "cell_type": "code",
      "source": [
        "import random\n",
        "\n",
        "random_guess = random.randint(1, 100)\n",
        "\n",
        "while True:\n",
        "    try:\n",
        "        user_input = int(input(\"Enter any number: \"))\n",
        "\n",
        "        if user_input < 1 or user_input > 100:\n",
        "            print(\"Please enter a number between 1 and 100.\")\n",
        "            continue\n",
        "\n",
        "        if user_input == random_guess:\n",
        "            print(\"Congratulations! You guessed the correct number.\")\n",
        "            break\n",
        "        elif user_input < random_guess:\n",
        "            print(\"Too low.\")\n",
        "        else:\n",
        "            print(\"Too high.\")\n",
        "    except ValueError:\n",
        "        print(\"Please enter a valid number.\")\n",
        "\n",
        "\n"
      ],
      "metadata": {
        "colab": {
          "base_uri": "https://localhost:8080/"
        },
        "id": "GfnGbiJutHL1",
        "outputId": "12a65de4-a4c7-4379-c84e-84ee6508a456"
      },
      "execution_count": 9,
      "outputs": [
        {
          "output_type": "stream",
          "name": "stdout",
          "text": [
            "Enter any number: 88\n",
            "Too high.\n",
            "Enter any number: 78\n",
            "Too high.\n",
            "Enter any number: 45\n",
            "Congratulations! You guessed the correct number.\n"
          ]
        }
      ]
    },
    {
      "cell_type": "code",
      "source": [
        "import random\n",
        "\n",
        "N_NUMBERS: int = 10\n",
        "MIN_VALUE: int = 1\n",
        "MAX_VALUE: int = 100\n",
        "\n",
        "def main():\n",
        "    \"\"\"\n",
        "    Prints 10 random numbers between 1 and 100 (inclusive)\n",
        "    \"\"\"\n",
        "    for _ in range(N_NUMBERS):\n",
        "        print(random.randint(MIN_VALUE, MAX_VALUE), end=' ')\n",
        "    print()  # Add a newline at the end\n",
        "\n",
        "if __name__ == '__main__':\n",
        "    main()"
      ],
      "metadata": {
        "colab": {
          "base_uri": "https://localhost:8080/"
        },
        "id": "ZJG2UeQy0Ppf",
        "outputId": "3928486a-ee39-4fb9-d65e-3619a363763b"
      },
      "execution_count": 10,
      "outputs": [
        {
          "output_type": "stream",
          "name": "stdout",
          "text": [
            "54 67 24 32 35 95 13 36 1 75 \n"
          ]
        }
      ]
    }
  ]
}