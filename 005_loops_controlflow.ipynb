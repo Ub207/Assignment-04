{
  "nbformat": 4,
  "nbformat_minor": 0,
  "metadata": {
    "colab": {
      "provenance": [],
      "authorship_tag": "ABX9TyPxC5TyqCwLkBi9fEksLRhq",
      "include_colab_link": true
    },
    "kernelspec": {
      "name": "python3",
      "display_name": "Python 3"
    },
    "language_info": {
      "name": "python"
    }
  },
  "cells": [
    {
      "cell_type": "markdown",
      "metadata": {
        "id": "view-in-github",
        "colab_type": "text"
      },
      "source": [
        "<a href=\"https://colab.research.google.com/github/Ub207/Assignment-04/blob/main/005_loops_controlflow.ipynb\" target=\"_parent\"><img src=\"https://colab.research.google.com/assets/colab-badge.svg\" alt=\"Open In Colab\"/></a>"
      ]
    },
    {
      "cell_type": "code",
      "execution_count": null,
      "metadata": {
        "colab": {
          "base_uri": "https://localhost:8080/"
        },
        "id": "rb9x6TP-_bHQ",
        "outputId": "4f0833f6-5fd5-4f3e-ddc9-b366cfc6196c"
      },
      "outputs": [
        {
          "output_type": "stream",
          "name": "stdout",
          "text": [
            "1 se 100 tak ek number socho: 66\n",
            "Thora bara number socho!\n",
            "1 se 100 tak ek number socho: 89\n",
            "Thora bara number socho!\n",
            "1 se 100 tak ek number socho: 97\n",
            "Thora bara number socho!\n",
            "1 se 100 tak ek number socho: 100\n",
            "Thora chota number socho!\n",
            "1 se 100 tak ek number socho: 99\n",
            "Wah! Bilkul sahi socha! 🎉\n"
          ]
        }
      ],
      "source": [
        "import random\n",
        "\n",
        "number = random.randint(1, 100)  # 1 se 100 tak random number generate karna\n",
        "guessing_number = 0  # User ke guess ko store karna\n",
        "\n",
        "while number != guessing_number:\n",
        "    guessing_number = int(input(\"1 se 100 tak ek number socho: \"))\n",
        "\n",
        "    if guessing_number < number:  # Agar chhota guess kiya\n",
        "        print(\"Thora bara number socho!\")\n",
        "    elif guessing_number > number:  # Agar bara guess kiya\n",
        "        print(\"Thora chota number socho!\")\n",
        "    else:\n",
        "        print(\"Wah! Bilkul sahi socha! 🎉\")\n",
        "\n",
        "\n",
        "\n"
      ]
    },
    {
      "cell_type": "code",
      "source": [
        "# Write a program that asks a user to enter a number. Your program will then double that number and print out the result. It will repeat that process until the value is 100 or greater.\n",
        "curr_value = int(input(\"Enter a number:\"))\n",
        "while curr_value < 100:\n",
        "  curr_value = curr_value*2\n",
        "  print(curr_value, end=\" \")"
      ],
      "metadata": {
        "colab": {
          "base_uri": "https://localhost:8080/"
        },
        "id": "ok75QFjeDhJN",
        "outputId": "92fb163f-f9c7-4e97-fad7-30d406027547"
      },
      "execution_count": 2,
      "outputs": [
        {
          "output_type": "stream",
          "name": "stdout",
          "text": [
            "Enter a number:8\n",
            "16 32 64 128 "
          ]
        }
      ]
    },
    {
      "cell_type": "code",
      "source": [
        "MAX_TERM_VALUE : int = 10000\n",
        "\n",
        "def main():\n",
        "    curr_term = 0  # The 0th Fibonacci Number\n",
        "    next_term = 1  # The 1st Fibonacci Number\n",
        "    while curr_term <= MAX_TERM_VALUE:\n",
        "        print(curr_term)\n",
        "        term_after_next = curr_term + next_term\n",
        "        curr_term = next_term\n",
        "        next_term = term_after_next\n",
        "\n",
        "\n",
        "# There is no need to edit code beyond this point\n",
        "\n",
        "if __name__ == '__main__':\n",
        "    main()"
      ],
      "metadata": {
        "colab": {
          "base_uri": "https://localhost:8080/"
        },
        "id": "BRFW7tTSMK_c",
        "outputId": "7c586704-0a95-4934-f5f3-f0e343d599a3"
      },
      "execution_count": null,
      "outputs": [
        {
          "output_type": "stream",
          "name": "stdout",
          "text": [
            "0\n",
            "1\n",
            "1\n",
            "2\n",
            "3\n",
            "5\n",
            "8\n",
            "13\n",
            "21\n",
            "34\n",
            "55\n",
            "89\n",
            "144\n",
            "233\n",
            "377\n",
            "610\n",
            "987\n",
            "1597\n",
            "2584\n",
            "4181\n",
            "6765\n"
          ]
        }
      ]
    },
    {
      "cell_type": "code",
      "source": [
        "def main():\n",
        "    # This for-loop start at 0 and counts up to 19 (for a total of 20 numbers)\n",
        "    for i in range(20):\n",
        "        print(i * 2)  # Use the 'i' value inside the for-loop\n",
        "\n",
        "# Call the main function when \"run\", no need to edit anything below!\n",
        "if __name__ == \"__main__\":\n",
        "    main()"
      ],
      "metadata": {
        "colab": {
          "base_uri": "https://localhost:8080/"
        },
        "id": "FhRnLWozMZRX",
        "outputId": "f1253590-84fb-4fce-9e7a-0d31429acd0c"
      },
      "execution_count": null,
      "outputs": [
        {
          "output_type": "stream",
          "name": "stdout",
          "text": [
            "0\n",
            "2\n",
            "4\n",
            "6\n",
            "8\n",
            "10\n",
            "12\n",
            "14\n",
            "16\n",
            "18\n",
            "20\n",
            "22\n",
            "24\n",
            "26\n",
            "28\n",
            "30\n",
            "32\n",
            "34\n",
            "36\n",
            "38\n"
          ]
        }
      ]
    },
    {
      "cell_type": "code",
      "source": [],
      "metadata": {
        "id": "7ink9Fy44P9j"
      },
      "execution_count": null,
      "outputs": []
    },
    {
      "cell_type": "code",
      "source": [
        "Affirmation: str = \"I am capable of doing anything I put my mind to\"\n",
        "\n",
        "def main():\n",
        "    print(\"Please type the following assertion: \" + Affirmation)\n",
        "\n",
        "    user_feedback = \"\"  # Pehle user ka input khali rakho\n",
        "\n",
        "    while user_feedback != Affirmation:  # Jab tak sahi input na mile\n",
        "        print(\"That was not the affirmation correctly!\")\n",
        "        user_feedback = input()  # User se dobara input lo\n",
        "\n",
        "    print(\"That was the correct affirmation!\")  # Jab sahi ho to yeh print kare\n",
        "\n",
        "main()  # Function call karo\n"
      ],
      "metadata": {
        "colab": {
          "base_uri": "https://localhost:8080/"
        },
        "id": "-5JBnUBD4D57",
        "outputId": "5746b006-15c2-4d56-fee5-27cdf9f433ad"
      },
      "execution_count": null,
      "outputs": [
        {
          "output_type": "stream",
          "name": "stdout",
          "text": [
            "Please type the following assertion: I am capable of doing anything I put my mind to\n",
            "That was not the affirmation correctly!\n",
            "I am capable of doing anything I put my mind to\n",
            "That was the correct affirmation!\n"
          ]
        }
      ]
    },
    {
      "cell_type": "code",
      "source": [
        "for i in range(10,0,-1):\n",
        "   print(i ,end=\"\")\n",
        "print(\"Liftoff\")\n"
      ],
      "metadata": {
        "colab": {
          "base_uri": "https://localhost:8080/"
        },
        "id": "JW7UNsqb_he1",
        "outputId": "49888b2d-2744-4fc1-85fb-0e9a65d52060"
      },
      "execution_count": null,
      "outputs": [
        {
          "output_type": "stream",
          "name": "stdout",
          "text": [
            "10987654321Liftoff\n"
          ]
        }
      ]
    }
  ]
}